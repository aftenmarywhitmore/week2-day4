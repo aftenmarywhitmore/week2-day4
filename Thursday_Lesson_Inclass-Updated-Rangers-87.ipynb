{
 "cells": [
  {
   "cell_type": "markdown",
   "metadata": {},
   "source": [
    "# User-Defined Functions & Scoping"
   ]
  },
  {
   "cell_type": "markdown",
   "metadata": {},
   "source": [
    "## Tasks Today:\n",
    "\n",
    "\n",
    "1) Functions <br>\n",
    " &nbsp;&nbsp;&nbsp;&nbsp; a) User-Defined vs. Built-In Functions <br>\n",
    " &nbsp;&nbsp;&nbsp;&nbsp; b) Accepting Parameters <br>\n",
    " &nbsp;&nbsp;&nbsp;&nbsp; c) Default Parameters <br>\n",
    " &nbsp;&nbsp;&nbsp;&nbsp; d) Making an Argument Optional <br>\n",
    " &nbsp;&nbsp;&nbsp;&nbsp; e) Keyword Arguments <br>\n",
    " &nbsp;&nbsp;&nbsp;&nbsp; f) Returning Values <br>\n",
    " &nbsp;&nbsp;&nbsp;&nbsp; g) *args <br>\n",
    " &nbsp;&nbsp;&nbsp;&nbsp; h) Docstring <br>\n",
    " &nbsp;&nbsp;&nbsp;&nbsp; i) Using a User Function in a Loop <br>\n",
    "2) Scope\n",
    "3) Creating more User-Defined functions "
   ]
  },
  {
   "cell_type": "markdown",
   "metadata": {},
   "source": [
    "\n",
    "## Functions"
   ]
  },
  {
   "cell_type": "code",
   "execution_count": null,
   "metadata": {},
   "outputs": [],
   "source": [
    "User-Defined vs. Built-In Functions"
   ]
  },
  {
   "cell_type": "code",
   "execution_count": 5,
   "metadata": {},
   "outputs": [
    {
     "name": "stdout",
     "output_type": "stream",
     "text": [
      "Hello\n",
      "Hello World from Coding Temple\n",
      "HEllO world from Coding TEMPLE\n"
     ]
    }
   ],
   "source": [
    "#Built in funcitons\n",
    "\n",
    "print(\"Hello\")\n",
    "\n",
    "#user defined function \n",
    "def sayHello(): #camel case: firstWordLowerCaseSecondWordUpperCase\n",
    "    return \"Hello World from Coding Temple\" \n",
    "\n",
    "print(sayHello())\n",
    "\n",
    "def say_hello():\n",
    "    return \"HEllO world from Coding TEMPLE\"\n",
    "print(say_hello())"
   ]
  },
  {
   "cell_type": "markdown",
   "metadata": {},
   "source": [
    "##### Accepting Parameters"
   ]
  },
  {
   "cell_type": "code",
   "execution_count": 7,
   "metadata": {
    "scrolled": true
   },
   "outputs": [
    {
     "name": "stdout",
     "output_type": "stream",
     "text": [
      "Hi my last name is Balex, and my first name is Alex\n",
      "Hi my last name is Alex, and my first name is Balex\n"
     ]
    }
   ],
   "source": [
    "#ORder always matters bc parameters are based on order\n",
    "#Pass any tipe of variable into a function as a parameter (Strings, integers, floates, booleans, lists, dictionaries)\n",
    "\n",
    "def print_full_name(first_name, last_name):\n",
    "    return f\"Hi my last name is {last_name}, and my first name is {first_name}\"\n",
    "\n",
    "print(print_full_name(\"Alex\", \"Balex\"))\n",
    "print(print_full_name(\"Balex\", \"Alex\"))"
   ]
  },
  {
   "cell_type": "markdown",
   "metadata": {},
   "source": [
    "##### Default Parameters"
   ]
  },
  {
   "cell_type": "code",
   "execution_count": 9,
   "metadata": {},
   "outputs": [
    {
     "name": "stdout",
     "output_type": "stream",
     "text": [
      "The name is Bond.....James Bond\n"
     ]
    }
   ],
   "source": [
    "#Default paramters MUST come after non-default paramaters at ALL TIMES.....or else\n",
    "\n",
    "def agent_name(first_name, last_name = \"Bond\"):\n",
    "    return f\"The name is {last_name}.....{first_name} {last_name}\"\n",
    "    \n",
    "print(agent_name(\"James\"))"
   ]
  },
  {
   "cell_type": "code",
   "execution_count": 10,
   "metadata": {},
   "outputs": [
    {
     "name": "stdout",
     "output_type": "stream",
     "text": [
      "Your birthday is the 11th day of October and you were born in 1980.\n",
      "Your birthday is the 21st day of September and you were born in 1980.\n"
     ]
    }
   ],
   "source": [
    "def oct_birthday(day, year, month = \"October\"):\n",
    "    return f\"Your birthday is the {day} day of {month} and you were born in {year}.\"\n",
    "\n",
    "print(oct_birthday(\"11th\", 1980))\n",
    "print(oct_birthday(\"21st\", 1980, \"September\"))"
   ]
  },
  {
   "cell_type": "markdown",
   "metadata": {},
   "source": [
    "##### Making an Argument Optional"
   ]
  },
  {
   "cell_type": "code",
   "execution_count": 94,
   "metadata": {},
   "outputs": [
    {
     "name": "stdout",
     "output_type": "stream",
     "text": [
      "HEllo my name is MR.  Ed and I am a pretty cool horse....nayyyyy.\n",
      "HEllo my name is MRS. Seabiscuit Ed and I am a pretty cool horse....nayyyyy.\n",
      "None\n"
     ]
    }
   ],
   "source": [
    "def print_horse_name(first, middle=\"\", last = \"Ed\"):\n",
    "    return f\"HEllo my name is {first} {middle} {last} and I am a pretty cool horse....nayyyyy.\"\n",
    "\n",
    "print(print_horse_name(\"MR.\"))\n",
    "print(print(print_horse_name(\"MRS.\", \"Seabiscuit\")))"
   ]
  },
  {
   "cell_type": "markdown",
   "metadata": {},
   "source": [
    "##### Keyword Arguments"
   ]
  },
  {
   "cell_type": "code",
   "execution_count": 16,
   "metadata": {},
   "outputs": [
    {
     "name": "stdout",
     "output_type": "stream",
     "text": [
      "Harry Potter's power is invisible'\n",
      "Superman's power is flying'\n"
     ]
    }
   ],
   "source": [
    "def print_hero(name, power = 'invisible'):\n",
    "    return f\"{name}'s power is {power}'\"\n",
    "\n",
    "print(print_hero('Harry Potter'))\n",
    "print(print_hero(power = 'flying', name = 'Superman'))"
   ]
  },
  {
   "cell_type": "code",
   "execution_count": 25,
   "metadata": {},
   "outputs": [
    {
     "name": "stdout",
     "output_type": "stream",
     "text": [
      "Come one, come all, to a beautiful show!\n",
      "I'm Jack Kelly, I'm a lawyer\n",
      "And I'm Sweet Dee Reynolds and I am not a g*dd*** bird.\n"
     ]
    }
   ],
   "source": [
    "# Create a function (or more than one) that accepts positional, default, and optional arguments.\n",
    "\n",
    "def sayGreeting(): \n",
    "    return \"Come one, come all, to a beautiful show!\" \n",
    "\n",
    "print(sayGreeting())\n",
    "\n",
    "def print_full_name(first_name, last_name):\n",
    "    return f\"I'm {first_name}, {last_name}\"\n",
    "\n",
    "print(print_full_name(\"Jack Kelly\", \"I'm a lawyer\"))\n",
    "\n",
    "def print_bird_name(first, middle=\"Dee\", last = \"Reynolds\"):\n",
    "    return f\"And I'm {first} {middle} {last} and I am not a g*dd*** bird.\"\n",
    "\n",
    "print(print_bird_name(\"Sweet\"))"
   ]
  },
  {
   "cell_type": "markdown",
   "metadata": {},
   "source": [
    "# Creating a start, stop, step function"
   ]
  },
  {
   "cell_type": "code",
   "execution_count": 26,
   "metadata": {},
   "outputs": [
    {
     "name": "stdout",
     "output_type": "stream",
     "text": [
      "0\n",
      "1\n",
      "2\n",
      "3\n",
      "4\n",
      "5\n",
      "6\n",
      "7\n",
      "8\n",
      "9\n",
      "\n",
      "\n",
      "2\n",
      "4\n",
      "6\n",
      "8\n"
     ]
    }
   ],
   "source": [
    "def my_range(stop, start = 0, step = 1):\n",
    "    \n",
    "    for i in range(start, stop, step):\n",
    "        print(i)\n",
    "\n",
    "my_range(10)\n",
    "print(\"\\n\")\n",
    "my_range(10, 2, 2)"
   ]
  },
  {
   "cell_type": "markdown",
   "metadata": {},
   "source": [
    "##### Returning Values"
   ]
  },
  {
   "cell_type": "code",
   "execution_count": null,
   "metadata": {},
   "outputs": [],
   "source": [
    "def add_nums(num1, num2):\n",
    "    return num1 + num2\n",
    "\n",
    "print(add_nums(50,50))\n",
    "add_nums(56, 44)"
   ]
  },
  {
   "cell_type": "markdown",
   "metadata": {},
   "source": [
    "##### *args / **kwargs (keyword arguments)"
   ]
  },
  {
   "cell_type": "code",
   "execution_count": 28,
   "metadata": {
    "scrolled": true
   },
   "outputs": [
    {
     "name": "stdout",
     "output_type": "stream",
     "text": [
      "These are our positional arguments: 2\n",
      "These are our args: (10, 'megazord')\n",
      "These are our kwargs: {'names': ['Alex', 'Perry', 'Kelsey'], 'subject': 'Python'}\n"
     ]
    }
   ],
   "source": [
    "# *args stands for arguments, **kwargs stands for keyword arguments \n",
    "#& they can take any number of arguments & keyword arguments\n",
    "#must be last if they are present\n",
    "\n",
    "def print_args_kwargs(num1, *args, **kwargs):\n",
    "    print(f\"These are our positional arguments: {num1}\")\n",
    "    print(f\"These are our args: {args}\")\n",
    "    print(f\"These are our kwargs: {kwargs}\")\n",
    "    \n",
    "print_args_kwargs(2, 10, \"megazord\", names = [\"Alex\", \"Perry\", \"Kelsey\"], subject = \"Python\")\n"
   ]
  },
  {
   "cell_type": "code",
   "execution_count": 29,
   "metadata": {},
   "outputs": [
    {
     "name": "stdout",
     "output_type": "stream",
     "text": [
      "thursday I\n",
      "('am', 'so', 'very')\n",
      "{'confused': ['with'], 'this': ['stuff']}\n"
     ]
    }
   ],
   "source": [
    "def not_sure(day, time, *args, **kwargs):\n",
    "    print(day, time)\n",
    "    print(args)\n",
    "    print(kwargs)\n",
    "\n",
    "not_sure(\"thursday\", \"I\", \"am\", \"so\", \"very\", confused=[\"with\"], this=[\"stuff\"])"
   ]
  },
  {
   "cell_type": "code",
   "execution_count": 30,
   "metadata": {
    "scrolled": true
   },
   "outputs": [
    {
     "name": "stdout",
     "output_type": "stream",
     "text": [
      "You provided these positional arguments: \n",
      "Hello, 3, ----\n",
      "\n",
      "You provided these *args: \n",
      "('Today', 'Is', 'Not', 'Friday')\n",
      "\n",
      "You provided these **kwargs: \n",
      "{'sport': 'tennis', 'bands': ['Dinosaur Jr.', \"Jane's Addiction\", 'Berlin'], 'city': 'Paris'}\n"
     ]
    }
   ],
   "source": [
    "def print_various_args(arg1, arg2, arg3, *args, **kwargs):\n",
    "    print(f\"You provided these positional arguments: \\n{arg1}, {arg2}, {arg3}\")\n",
    "    print(f\"\\nYou provided these *args: \\n{args}\")\n",
    "    print(f\"\\nYou provided these **kwargs: \\n{kwargs}\")\n",
    "    \n",
    "print_various_args(\"Hello\", 3, \"----\", \"Today\", \"Is\", \"Not\", \"Friday\", sport=\"tennis\", bands=[\"Dinosaur Jr.\", \"Jane's Addiction\", \"Berlin\"], city=\"Paris\")"
   ]
  },
  {
   "cell_type": "code",
   "execution_count": 31,
   "metadata": {},
   "outputs": [
    {
     "name": "stdout",
     "output_type": "stream",
     "text": [
      "Kelsey's top 3 games are ('Sekiro', 'Kingdom Hearts 2', 'Elden Ring'). Some other things Kelsey likes are: {'movies': ['Nightcrawler', 'Marvel movies', \"I don't have strong opinions on movies\"], 'shows': ['Breaking Bad', 'Buffy the Vampire Slayer', 'Futurama']}\n"
     ]
    }
   ],
   "source": [
    "def fun(name, *games, **other):\n",
    "    print(f\"{name}'s top 3 games are {games}. Some other things {name} likes are: {other}\")\n",
    "\n",
    "fun(\"Kelsey\", \"Sekiro\", \"Kingdom Hearts 2\", \"Elden Ring\", movies = [\"Nightcrawler\", \"Marvel movies\", \"I don't have strong opinions on movies\"], shows = [\"Breaking Bad\", \"Buffy the Vampire Slayer\", \"Futurama\"])"
   ]
  },
  {
   "cell_type": "code",
   "execution_count": 38,
   "metadata": {},
   "outputs": [
    {
     "name": "stdout",
     "output_type": "stream",
     "text": [
      "This is my positional argument: \n",
      "my fave time of year is Fall\n",
      "\n",
      "These are the things I like to do: \n",
      "Pumpkin Patching\n",
      "Hiking\n",
      "Carve Pumpkins\n",
      "Corn Mazes\n",
      "These are my **kwargs: \n",
      "THesea re my fav spooky movies: \n",
      "Genre is posession\n",
      "Movie is The Conjuring\n",
      "Genre is gore\n",
      "Movie is Saw\n"
     ]
    }
   ],
   "source": [
    "def halloween_time(season, *fun_things, **fav_movies):\n",
    "    \n",
    "    print(\"This is my positional argument: \")\n",
    "    print(f\"my fave time of year is {season}\\n\")\n",
    "    \n",
    "    print(\"These are the things I like to do: \")\n",
    "    \n",
    "    for things in fun_things:\n",
    "        print(things)\n",
    "        \n",
    "    print(\"These are my **kwargs: \")\n",
    "    print(\"THesea re my fav spooky movies: \")\n",
    "    \n",
    "    for key, value in fav_movies.items():\n",
    "        print(f\"Genre is {key}\")\n",
    "        print(f\"Movie is {value}\")\n",
    "        \n",
    "halloween_time(\"Fall\", \"Pumpkin Patching\", \"Hiking\", \"Carve Pumpkins\", \"Corn Mazes\", posession = \"The Conjuring\", gore = \"Saw\"  )\n"
   ]
  },
  {
   "cell_type": "markdown",
   "metadata": {},
   "source": [
    "##### Docstring"
   ]
  },
  {
   "cell_type": "code",
   "execution_count": null,
   "metadata": {},
   "outputs": [],
   "source": [
    "#docstring is giving some information about the function \n",
    "#activate docstring- \"\"\" \"\"\"\n",
    "\n",
    "def print_names(arr):\n",
    "    \n",
    "    \"\"\"\n",
    "    The print_names() function requries a list to be passed as a paramter and will print the contents of a list. \n",
    "    It is expecting a list of strings to be passed into it.\n",
    "    \"\"\"\n",
    "    \n",
    "    for name in arr:\n",
    "        print(name)"
   ]
  },
  {
   "cell_type": "code",
   "execution_count": null,
   "metadata": {},
   "outputs": [],
   "source": [
    "print(print_names)\n",
    "print_names([\"Chris\", \"Perry\", \"Teddie\", \"Katie\"])"
   ]
  },
  {
   "cell_type": "markdown",
   "metadata": {},
   "source": [
    "##### Using a User Function in a Loop"
   ]
  },
  {
   "cell_type": "code",
   "execution_count": 53,
   "metadata": {
    "scrolled": true
   },
   "outputs": [
    {
     "name": "stdout",
     "output_type": "stream",
     "text": [
      "What do you want to do today?Eat Cheese!\n",
      "Your answer is Eat Cheese!\n",
      "Do you want to quit and build a snowman instead? Yes\n"
     ]
    }
   ],
   "source": [
    "def print_input(answer):\n",
    "    print(f\"Your answer is {answer}\")\n",
    "    \n",
    "while True: \n",
    "    ask = input(\"What do you want to do today?\")\n",
    "    \n",
    "    print_input(ask)\n",
    "    \n",
    "    response = input(\"Do you want to quit and build a snowman instead? \")\n",
    "    if response.lower().strip() == \"yes\":\n",
    "        break"
   ]
  },
  {
   "cell_type": "code",
   "execution_count": 60,
   "metadata": {},
   "outputs": [
    {
     "name": "stdout",
     "output_type": "stream",
     "text": [
      "this is our num: 1\n",
      "this is our multipliation of num: 2\n",
      "this is our num: 2\n",
      "this is our multipliation of num: 4\n",
      "this is our num: 3\n",
      "this is our multipliation of num: 6\n",
      "this is our num: 4\n",
      "this is our multipliation of num: 8\n",
      "this is our num: 5\n",
      "this is our multipliation of num: 10\n"
     ]
    }
   ],
   "source": [
    "def times_two(num):\n",
    "    \n",
    "    return num * 2\n",
    "\n",
    "def my_range(stop, start, step = 1):\n",
    "    for i in range(start,stop,step):\n",
    "        print(f\"this is our num: {i}\")\n",
    "        print(f\"this is our multipliation of num: {times_two(i)}\")\n",
    "        \n",
    "my_range(6,1)"
   ]
  },
  {
   "cell_type": "markdown",
   "metadata": {},
   "source": [
    "## Function Exercises <br>\n",
    "### Exercise 1\n",
    "<p>Write a function that loops through a list of first_names and a list of last_names, combines the two and return a list of full_names</p>"
   ]
  },
  {
   "cell_type": "code",
   "execution_count": 62,
   "metadata": {},
   "outputs": [
    {
     "data": {
      "text/plain": [
       "['John Smith', 'Evan Smith', 'Jordan Williams', 'Max Bell']"
      ]
     },
     "execution_count": 62,
     "metadata": {},
     "output_type": "execute_result"
    }
   ],
   "source": [
    "first_name = ['John', 'Evan', 'Jordan', 'Max']\n",
    "last_name = ['Smith', 'Smith', 'Williams', 'Bell']\n",
    "\n",
    "# Output: ['John Smith', 'Evan Smith', 'Jordan Williams', 'Max Bell']\n",
    "\n",
    "def full_names(first, last):\n",
    "    \"\"\"\n",
    "    Our function full_names is going to be combining the first and last names together and return full names\n",
    "    \"\"\"\n",
    "    \n",
    "    return (first + \" \" + last).title()\n",
    "\n",
    "def names(first_name, last_name): \n",
    "    \n",
    "    fulls = []\n",
    "    \n",
    "    for i in range(len(first_name)):\n",
    "        whole_name = full_names(first_name[i], last_name[i])\n",
    "        fulls.append(whole_name)\n",
    "    \n",
    "    return fulls\n",
    "\n",
    "names(first_name, last_name)\n"
   ]
  },
  {
   "cell_type": "markdown",
   "metadata": {},
   "source": [
    "### Exercise 2\n",
    "Create a function that alters all values in the given list by subtracting 5 and then doubling them."
   ]
  },
  {
   "cell_type": "code",
   "execution_count": 75,
   "metadata": {
    "scrolled": true
   },
   "outputs": [
    {
     "name": "stdout",
     "output_type": "stream",
     "text": [
      "[5, 10, 15, 20, 3]\n",
      "<function times_two at 0x7f87609f5ee0>\n"
     ]
    }
   ],
   "source": [
    "input_list = [5,10,15,20,3]\n",
    "# output = [0,10,20,30,-4]\n",
    "\n",
    "print(input_list)\n",
    "\n",
    "def minus_five(input_list):\n",
    "    \n",
    "    return num * 2\n",
    "\n",
    "def times_two(returns):\n",
    "    print(f\"this is our num: {i}\")\n",
    "    print(f\"this is our multipliation of num: {times_two(i)}\")\n",
    "    \n",
    "print(times_two)\n",
    "\n",
    "\n"
   ]
  },
  {
   "cell_type": "code",
   "execution_count": 76,
   "metadata": {},
   "outputs": [
    {
     "name": "stdout",
     "output_type": "stream",
     "text": [
      "[0, 10, 20, 30, -4]\n"
     ]
    },
    {
     "ename": "NameError",
     "evalue": "name 'altered_values' is not defined",
     "output_type": "error",
     "traceback": [
      "\u001b[0;31m---------------------------------------------------------------------------\u001b[0m",
      "\u001b[0;31mNameError\u001b[0m                                 Traceback (most recent call last)",
      "Input \u001b[0;32mIn [76]\u001b[0m, in \u001b[0;36m<cell line: 27>\u001b[0;34m()\u001b[0m\n\u001b[1;32m     22\u001b[0m     \u001b[38;5;28;01mreturn\u001b[39;00m new_arr    \n\u001b[1;32m     24\u001b[0m \u001b[38;5;28mprint\u001b[39m(double_num(subtract_5(input_list)))\n\u001b[0;32m---> 27\u001b[0m \u001b[38;5;28mprint\u001b[39m(\u001b[43maltered_values\u001b[49m(\u001b[38;5;241m5\u001b[39m,\u001b[38;5;241m10\u001b[39m))\n",
      "\u001b[0;31mNameError\u001b[0m: name 'altered_values' is not defined"
     ]
    }
   ],
   "source": [
    "input_list = [5,10,15,20,3]\n",
    "# output = [0,10,20,30,-4]\n",
    "\n",
    "def subtract_5(arr):\n",
    "    \"\"\"\n",
    "    Function that alters all values in the given list by subtracting 5.\n",
    "    Returns a list.\n",
    "    \"\"\"\n",
    "    new_arr = []\n",
    "    for num in arr:\n",
    "        new_arr.append(num - 5)\n",
    "    return new_arr\n",
    "\n",
    "def double_num(arr):\n",
    "    \"\"\"\n",
    "    Function that alters all values in the given list by doubling them.\n",
    "    Returns a list.\n",
    "    \"\"\"\n",
    "    new_arr = []\n",
    "    for num in arr:\n",
    "        new_arr.append(num * 2)\n",
    "    return new_arr    \n",
    "\n",
    "print(double_num(subtract_5(input_list)))\n",
    "\n",
    "\n",
    "print(altered_values(5,10))"
   ]
  },
  {
   "cell_type": "markdown",
   "metadata": {},
   "source": [
    "### Exercise 3\n",
    "Create a function that takes in a list of strings and filters out the strings that DO NOT contain vowels. "
   ]
  },
  {
   "cell_type": "code",
   "execution_count": 85,
   "metadata": {
    "scrolled": true
   },
   "outputs": [
    {
     "name": "stdout",
     "output_type": "stream",
     "text": [
      "['Sheldon', 'Penny', 'Leonard', 'Howard', 'Ranjit', 'Amy', 'Stewart']\n"
     ]
    }
   ],
   "source": [
    "string_list = ['Sheldon','Penny','Leonard','Howard','Ranjit','Amy','Stewart']\n",
    "# output = ['Sheldon','Leonard','Amy']\n",
    "\n",
    "print(string_list)\n"
   ]
  },
  {
   "cell_type": "code",
   "execution_count": 83,
   "metadata": {},
   "outputs": [
    {
     "data": {
      "text/plain": [
       "['Sheldon', 'Leonard', 'Amy']"
      ]
     },
     "execution_count": 83,
     "metadata": {},
     "output_type": "execute_result"
    }
   ],
   "source": [
    "string_list = ['Sheldon','Pnny','Leonard','Hwrd','Rj','Amy','Strt']\n",
    "# output = ['Sheldon','Leonard','Amy']\n",
    "\n",
    "def only_vowels(str_list):\n",
    "    only_vowel_list = []\n",
    "    for str in str_list:\n",
    "        if \"a\" in str.lower():\n",
    "            only_vowel_list.append(str)\n",
    "        elif \"e\" in str.lower():\n",
    "            only_vowel_list.append(str)\n",
    "        elif \"i\" in str.lower():\n",
    "            only_vowel_list.append(str)\n",
    "        elif \"o\" in str.lower():\n",
    "            only_vowel_list.append(str)\n",
    "        elif \"u\" in str.lower():\n",
    "            only_vowel_list.append(str)\n",
    "    return only_vowel_list\n",
    "\n",
    "only_vowels(string_list)"
   ]
  },
  {
   "cell_type": "code",
   "execution_count": 84,
   "metadata": {},
   "outputs": [
    {
     "data": {
      "text/plain": [
       "['Sheldon', 'Leonard', 'Amy']"
      ]
     },
     "execution_count": 84,
     "metadata": {},
     "output_type": "execute_result"
    }
   ],
   "source": [
    "string_list = ['Sheldon','Pnny','Leonard','Hwrd','Rj','Amy','Strt']\n",
    "# output = ['Sheldon','Leonard','Amy']\n",
    "\n",
    "def have_vowels(name):\n",
    "    \n",
    "    name_vowels = []\n",
    "    \n",
    "    vowels = ['a', 'e', 'i', 'o', 'u', 'A', 'E', 'I', 'O', 'U']\n",
    "    \n",
    "    for name in string_list:\n",
    "        if any(vowel in name for vowel in vowels):\n",
    "            name_vowels.append(name)\n",
    "    return name_vowels\n",
    "\n",
    "have_vowels(string_list)"
   ]
  },
  {
   "cell_type": "code",
   "execution_count": 86,
   "metadata": {},
   "outputs": [
    {
     "data": {
      "text/plain": [
       "['Sheldon', 'Leonard', 'Amy']"
      ]
     },
     "execution_count": 86,
     "metadata": {},
     "output_type": "execute_result"
    }
   ],
   "source": [
    "string_list = ['Sheldon','Pnny','Leonard','Hwrd','Rj','Amy','Strt']\n",
    "# output = ['Sheldon','Leonard','Amy']\n",
    "\n",
    "def have_vowels(name):\n",
    "    \n",
    "    name_vowels = []\n",
    "    \n",
    "    vowels = ['a', 'e', 'i', 'o', 'u', 'A', 'E', 'I', 'O', 'U']\n",
    "    \n",
    "    for name in string_list:\n",
    "        if any(vowel in name for vowel in vowels):\n",
    "            name_vowels.append(name)\n",
    "    return name_vowels\n",
    "\n",
    "have_vowels(string_list)"
   ]
  },
  {
   "cell_type": "markdown",
   "metadata": {},
   "source": [
    "### Exercise 4\n",
    "Create a function that accepts a list as a parameter and returns a dictionary containing the list items as it's keys, and the number of times they appear in the list as the values"
   ]
  },
  {
   "cell_type": "code",
   "execution_count": 89,
   "metadata": {
    "scrolled": true
   },
   "outputs": [
    {
     "ename": "SyntaxError",
     "evalue": "invalid syntax (2074542450.py, line 19)",
     "output_type": "error",
     "traceback": [
      "\u001b[0;36m  Input \u001b[0;32mIn [89]\u001b[0;36m\u001b[0m\n\u001b[0;31m    for key in range(len(name_list))\u001b[0m\n\u001b[0m                                    ^\u001b[0m\n\u001b[0;31mSyntaxError\u001b[0m\u001b[0;31m:\u001b[0m invalid syntax\n"
     ]
    }
   ],
   "source": [
    "example_list = [\"Harry\", 'Hermione','Harry','Ron','Dobby','Draco',\n",
    "                'Luna','Harry','Hermione','Ron','Ron','Ron']\n",
    "\n",
    "name_list = {\"Harry\": \"\",\n",
    "    \"Hermione\" : \"\" ,\n",
    "    \"Harry\" : \"\" ,\n",
    "    \"Ron\" : \"\" ,\n",
    "    \"Dobby\" : \"\" ,\n",
    "    \"Draco\" : \"\" ,\n",
    "    \"Luna\" : \"\" ,\n",
    "    \"Harry\" : \"\" ,\n",
    "    \"Hermione\" : \"\" ,\n",
    "    \"Ron\" : \"\" ,\n",
    "    \"Ron\" : \"\" ,\n",
    "    \"Ron\" : \"\" ,\n",
    "}\n",
    "\n",
    "def name_list(key, value):\n",
    "    for key in range(len(name_list))\n",
    "    \n",
    "print(name_list)\n",
    "# output = {\n",
    "#     \"Harry\":3,\n",
    "#     \"Hermione\":2,\n",
    "#     \"Ron\":4,\n",
    "#     \"Dobby\":1,\n",
    "#     \"Draco\":1,\n",
    "#     \"Luna\": 1\n",
    "# }\n",
    "\n"
   ]
  },
  {
   "cell_type": "code",
   "execution_count": 91,
   "metadata": {},
   "outputs": [
    {
     "data": {
      "text/plain": [
       "{'Harry': 3, 'Hermione': 2, 'Ron': 4, 'Dobby': 1, 'Draco': 1, 'Luna': 1}"
      ]
     },
     "execution_count": 91,
     "metadata": {},
     "output_type": "execute_result"
    }
   ],
   "source": [
    "example_list = [\"Harry\", 'Hermione','Harry','Ron','Dobby','Draco',\n",
    "                'Luna','Harry','Hermione','Ron','Ron','Ron']\n",
    "\n",
    "def name_count(names):\n",
    "    dict = {}\n",
    "    for name in names:\n",
    "        count = 0\n",
    "        for i in range(len(names)):\n",
    "            if name == names[i]:\n",
    "                count += 1\n",
    "        dict[name] = count\n",
    "    return dict\n",
    "name_count(example_list)"
   ]
  },
  {
   "cell_type": "markdown",
   "metadata": {},
   "source": [
    "\n",
    "\n",
    "## Scope <br>\n",
    "<p>Scope refers to the ability to access variables, different types of scope include:<br>a) Global<br>b) Function (local)<br>c) Class (local)</p>"
   ]
  },
  {
   "cell_type": "code",
   "execution_count": 93,
   "metadata": {},
   "outputs": [
    {
     "name": "stdout",
     "output_type": "stream",
     "text": [
      "3\n",
      "6\n"
     ]
    }
   ],
   "source": [
    "# placement of variable declaration matters\n",
    "\n",
    "number = 3 # Global Variable\n",
    "\n",
    "def myFunc():\n",
    "    num_3 = 6 #Local Function Variable \n",
    "    return num_3 \n",
    "\n",
    "print(number)\n",
    "#print (num_3)\n",
    "\n",
    "#calling a function\n",
    "return_num = myFunc()\n",
    "print(return_num)"
   ]
  },
  {
   "cell_type": "markdown",
   "metadata": {},
   "source": [
    "# Homework Exercises"
   ]
  },
  {
   "cell_type": "markdown",
   "metadata": {},
   "source": [
    "## Exercise 1 <br>\n",
    "<p>Given a list as a parameter,write a function that returns a list of numbers that are less than ten</b></i></p><br>\n",
    "<p> For example: Say your input parameter to the function is [1,11,14,5,8,9]...Your output should [1,5,8,9]</p>"
   ]
  },
  {
   "cell_type": "code",
   "execution_count": 97,
   "metadata": {},
   "outputs": [
    {
     "data": {
      "text/plain": [
       "[1, 5, 8, 9]"
      ]
     },
     "execution_count": 97,
     "metadata": {},
     "output_type": "execute_result"
    }
   ],
   "source": [
    "# Use the following list - [1,11,14,5,8,9]\n",
    "\n",
    "list_1 = [1,11,14,5,8,9]\n",
    "\n",
    "def newList(n):\n",
    "    newList=[]\n",
    "    for i in n:\n",
    "        if i<10:\n",
    "            newList.append(i)\n",
    "    return(newList)\n",
    "\n",
    "newList(list_1)"
   ]
  },
  {
   "cell_type": "markdown",
   "metadata": {},
   "source": [
    "## Exercise 2 <br>\n",
    "<p>Write a function that takes in two lists and returns the two lists merged together and sorted<br>\n",
    "<b><i>Hint: You can use the .sort() method</i></b></p>"
   ]
  },
  {
   "cell_type": "code",
   "execution_count": 98,
   "metadata": {},
   "outputs": [
    {
     "data": {
      "text/plain": [
       "[1, 2, 3, 3, 4, 4, 5, 5, 6, 6, 7, 8, 10]"
      ]
     },
     "execution_count": 98,
     "metadata": {},
     "output_type": "execute_result"
    }
   ],
   "source": [
    "list_1 = [1,2,3,4,5,6]\n",
    "list_2 = [3,4,5,6,7,8,10]\n",
    "\n",
    "def mergedAndSortedList(list_1, list_2):\n",
    "    merged_list = list_1 + list_2\n",
    "    merged_list.sort()\n",
    "    return(merged_list)\n",
    "\n",
    "mergedAndSortedList(l_1, l_2)\n"
   ]
  }
 ],
 "metadata": {
  "kernelspec": {
   "display_name": "Python 3 (ipykernel)",
   "language": "python",
   "name": "python3"
  },
  "language_info": {
   "codemirror_mode": {
    "name": "ipython",
    "version": 3
   },
   "file_extension": ".py",
   "mimetype": "text/x-python",
   "name": "python",
   "nbconvert_exporter": "python",
   "pygments_lexer": "ipython3",
   "version": "3.10.7"
  },
  "vscode": {
   "interpreter": {
    "hash": "aee8b7b246df8f9039afb4144a1f6fd8d2ca17a180786b69acc140d282b71a49"
   }
  }
 },
 "nbformat": 4,
 "nbformat_minor": 2
}
